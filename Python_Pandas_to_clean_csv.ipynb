{
 "cells": [
  {
   "cell_type": "markdown",
   "metadata": {},
   "source": [
    "#### Imports defined"
   ]
  },
  {
   "cell_type": "code",
   "execution_count": null,
   "metadata": {},
   "outputs": [],
   "source": [
    "import pandas as pd"
   ]
  },
  {
   "cell_type": "markdown",
   "metadata": {},
   "source": [
    "#### Reading the csv file and storing it into a DataFrame."
   ]
  },
  {
   "cell_type": "code",
   "execution_count": null,
   "metadata": {},
   "outputs": [],
   "source": [
    "df = pd.read_csv('data/esb.csv')"
   ]
  },
  {
   "cell_type": "markdown",
   "metadata": {},
   "source": [
    "#### Extracting specific year values from the DataFrame."
   ]
  },
  {
   "cell_type": "code",
   "execution_count": null,
   "metadata": {},
   "outputs": [],
   "source": [
    "year_values = [ i for i in df.loc[0] if not isinstance(i,float)]"
   ]
  },
  {
   "cell_type": "markdown",
   "metadata": {},
   "source": [
    "#### First row in the DataFrame in filled up with NaN values. Clearing them up."
   ]
  },
  {
   "cell_type": "code",
   "execution_count": null,
   "metadata": {},
   "outputs": [],
   "source": [
    "df = df.drop(df.index[0])"
   ]
  },
  {
   "cell_type": "markdown",
   "metadata": {},
   "source": [
    "#### Based on the index position of the rows in the DataFrame, slicing it to separate the records for various counties."
   ]
  },
  {
   "cell_type": "code",
   "execution_count": null,
   "metadata": {},
   "outputs": [],
   "source": [
    "df_county = df.loc[2:30]"
   ]
  },
  {
   "cell_type": "markdown",
   "metadata": {},
   "source": [
    "#### Similarly separating the records for the cities."
   ]
  },
  {
   "cell_type": "code",
   "execution_count": null,
   "metadata": {},
   "outputs": [],
   "source": [
    "df_city = df.loc[32:36]"
   ]
  },
  {
   "cell_type": "markdown",
   "metadata": {},
   "source": [
    "#### Function to format a DataFrame. This function aims to clean up a DataFrame. Below are the steps of operation.\n",
    "1. It begins by changing the index of the DataFrame, replacing it with the values found in column <b>Umnamed : 0</b>\n",
    "2. The numeric range for the columns in the DataFrame is calulated. It is for iterating over the DataFrame.\n",
    "3. The columns are in a multiple of 13 (it being a prime number also helps) for each of the years. Every group of 12 columns (Jan-Dec) is made into a separetae DataFrame which are the ESB connection values for every month in each of the years.\n",
    "4. Every sliced DataFrame is them inserted with two new columns namely <b>Council Type</b> and <b>Year</b>. It records the type of the Council viz. County and City along with the year for which the values correspond.\n",
    "5. All the smaller DataFrames are then concatenated to form a single DataFrame.\n",
    "6. Some columns had dirty data, numbers preceeded with <b>#</b> symbol. This function also removes this anomaly.\n",
    "\n",
    "#### The output of this function is a DataFrame with less number of columns and increaseed numbe of rows in comparision with the input DataFrame.\n",
    "\n",
    "<b>Note</b>: As part of this formatting, column <b>Totals</b> and the rows <b>TOTALS</b> and <b>Conversions</b> are removed."
   ]
  },
  {
   "cell_type": "code",
   "execution_count": null,
   "metadata": {},
   "outputs": [],
   "source": [
    "def format_dataframe(df,Type):\n",
    "    \n",
    "    col_list = ['Jan','Feb','Mar','Apr','May','Jun','Jul','Aug','Sept','Oct','Nov','Dec']\n",
    "    \n",
    "    new_df = pd.DataFrame()\n",
    "    col_indexes = []\n",
    "    counter = 0\n",
    "    \n",
    "    df = df.set_index('Unnamed: 0')\n",
    "    \n",
    "    df.columns = range(1, (df.shape[1] + 1) )\n",
    "    \n",
    "    for i in df.columns:\n",
    "        if not i % 13 == 0 :\n",
    "            col_indexes.append(i)\n",
    "\n",
    "        else:\n",
    "            start = col_indexes[0]\n",
    "            end = col_indexes[(len(col_indexes) - 1)]\n",
    "\n",
    "            col_indexes.clear()\n",
    "            sliced_df = df.loc[:,start:end]\n",
    "\n",
    "            if counter < len(year_values):\n",
    "                \n",
    "                sliced_df.columns = col_list\n",
    "                sliced_df.insert(0,'Council Type',Type)\n",
    "                sliced_df.insert(1,'Year',year_values[counter])\n",
    "\n",
    "                new_df = pd.concat([new_df, sliced_df], ignore_index=False)\n",
    "                counter+= 1\n",
    "                \n",
    "    new_df.reset_index(level=0, inplace=True)        \n",
    "    new_df.rename({'Unnamed: 0':'Council Name'},axis='columns',inplace=True)\n",
    "    \n",
    "    for i in col_list:\n",
    "        new_df[i] = new_df[i].str.replace('#','')\n",
    "    \n",
    "    new_df[col_list] = new_df[col_list].apply(pd.to_numeric, errors = 'coerce')\n",
    "                \n",
    "    return new_df"
   ]
  },
  {
   "cell_type": "markdown",
   "metadata": {},
   "source": [
    "#### Function to tidy a DataFrame. This function shrinks the columns of the  DataFrame and records each of the separate observations for months (Jan-Dec) under a single column. \n"
   ]
  },
  {
   "cell_type": "code",
   "execution_count": null,
   "metadata": {},
   "outputs": [],
   "source": [
    "def tidy_up(passed_df):\n",
    "    \n",
    "    tidy_df = pd.DataFrame(columns = ['Council Name','Council Type','Year','Month','ESB Connection'])\n",
    "    months = ['Jan','Feb','Mar','Apr','May','Jun','Jul','Aug','Sept','Oct','Nov','Dec']\n",
    "\n",
    "    for i in passed_df.index:\n",
    "        constants = list(passed_df.iloc[i,0:3])\n",
    "        monthly_values = list(passed_df.iloc[i,3:])\n",
    "\n",
    "        for j,k in enumerate(monthly_values):\n",
    "            row = {\n",
    "                   'Council Name':constants[0],\n",
    "                   'Council Type':constants[1],\n",
    "                   'Year':constants[2],\n",
    "                   'Month':months[j],\n",
    "                   'ESB Connection':k\n",
    "                  }\n",
    "            df = pd.DataFrame(row,index = [i])\n",
    "            tidy_df = pd.concat([tidy_df,df], ignore_index=True)\n",
    "            \n",
    "    return tidy_df"
   ]
  },
  {
   "cell_type": "markdown",
   "metadata": {},
   "source": [
    "#### Formatting the DataFrame that has the records of various cities."
   ]
  },
  {
   "cell_type": "code",
   "execution_count": null,
   "metadata": {},
   "outputs": [],
   "source": [
    "df_city_formatted = format_dataframe(df_city,'City Council')"
   ]
  },
  {
   "cell_type": "markdown",
   "metadata": {},
   "source": [
    "#### Formatting the DataFrame that has the records of various counties."
   ]
  },
  {
   "cell_type": "code",
   "execution_count": null,
   "metadata": {},
   "outputs": [],
   "source": [
    "df_county_formatted = format_dataframe(df_county, 'County Council')"
   ]
  },
  {
   "cell_type": "markdown",
   "metadata": {},
   "source": [
    "#### Merging the above formatted DataFrames."
   ]
  },
  {
   "cell_type": "code",
   "execution_count": null,
   "metadata": {},
   "outputs": [],
   "source": [
    "merged_df = pd.concat([df_county_formatted,df_city_formatted], ignore_index=True)\n",
    "\n",
    "merged_df.sort_values(['Year', 'Council Type'],inplace=True)\n",
    "\n",
    "merged_df.reset_index(drop=True, inplace=True)"
   ]
  },
  {
   "cell_type": "markdown",
   "metadata": {},
   "source": [
    "#### Tidying the above merged DataFrame."
   ]
  },
  {
   "cell_type": "code",
   "execution_count": null,
   "metadata": {},
   "outputs": [],
   "source": [
    "tidy_df = tidy_up(merged_df)"
   ]
  },
  {
   "cell_type": "markdown",
   "metadata": {},
   "source": [
    "#### Saving the tidied DataFrame as a csv file."
   ]
  },
  {
   "cell_type": "code",
   "execution_count": null,
   "metadata": {},
   "outputs": [],
   "source": [
    "tidy_df.to_csv('data/esb_tidy.csv',index = False)\n",
    "tidy_df.to_csv('C00246376_Python_Assignment_3_Part_3/data/esb_tidy.csv',index = False)"
   ]
  }
 ],
 "metadata": {
  "kernelspec": {
   "display_name": "Python 3",
   "language": "python",
   "name": "python3"
  },
  "language_info": {
   "codemirror_mode": {
    "name": "ipython",
    "version": 3
   },
   "file_extension": ".py",
   "mimetype": "text/x-python",
   "name": "python",
   "nbconvert_exporter": "python",
   "pygments_lexer": "ipython3",
   "version": "3.7.4"
  }
 },
 "nbformat": 4,
 "nbformat_minor": 2
}
